{
  "nbformat": 4,
  "nbformat_minor": 0,
  "metadata": {
    "colab": {
      "name": "predict_modified",
      "provenance": [],
      "authorship_tag": "ABX9TyOBOxP/jqvfdT4kHiylT0yC",
      "include_colab_link": true
    },
    "kernelspec": {
      "name": "python3",
      "display_name": "Python 3"
    }
  },
  "cells": [
    {
      "cell_type": "markdown",
      "metadata": {
        "id": "view-in-github",
        "colab_type": "text"
      },
      "source": [
        "<a href=\"https://colab.research.google.com/github/bkricardo/music_genretion_project/blob/main/predict_modified.ipynb\" target=\"_parent\"><img src=\"https://colab.research.google.com/assets/colab-badge.svg\" alt=\"Open In Colab\"/></a>"
      ]
    },
    {
      "cell_type": "code",
      "metadata": {
        "colab": {
          "base_uri": "https://localhost:8080/"
        },
        "id": "WGotJgg27BZp",
        "outputId": "4425272b-6914-46de-b94d-207083307d47"
      },
      "source": [
        "from google.colab import drive\r\n",
        "drive.mount(\"/content/drive\")"
      ],
      "execution_count": null,
      "outputs": [
        {
          "output_type": "stream",
          "text": [
            "Mounted at /content/drive\n"
          ],
          "name": "stdout"
        }
      ]
    },
    {
      "cell_type": "code",
      "metadata": {
        "id": "GCaYw8oK7ldw"
      },
      "source": [
        "import pickle\r\n",
        "import numpy\r\n",
        "from music21 import instrument, note, stream, chord\r\n",
        "from keras.models import Sequential\r\n",
        "from keras.layers import Dense\r\n",
        "from keras.layers import Dropout\r\n",
        "from keras.layers import LSTM\r\n",
        "from keras.layers import BatchNormalization as BatchNorm\r\n",
        "from keras.layers import Activation"
      ],
      "execution_count": null,
      "outputs": []
    },
    {
      "cell_type": "code",
      "metadata": {
        "id": "inZ_XXLx7nYR"
      },
      "source": [
        "def generate():\r\n",
        "    \"\"\" Generate a piano midi file \"\"\"\r\n",
        "    #load the notes used to train the model\r\n",
        "    with open('drive/My Drive/music/notes', 'rb') as filepath:\r\n",
        "        notes = pickle.load(filepath)\r\n",
        "\r\n",
        "    # Get all pitch names\r\n",
        "    pitchnames = sorted(set(item for item in notes))\r\n",
        "    # Get all pitch names\r\n",
        "    n_vocab = len(set(notes))\r\n",
        "\r\n",
        "    network_input, normalized_input = prepare_sequences(notes, pitchnames, n_vocab)\r\n",
        "    model = create_network(normalized_input, n_vocab)\r\n",
        "    prediction_output = generate_notes(model, network_input, pitchnames, n_vocab)\r\n",
        "    create_midi(prediction_output)"
      ],
      "execution_count": null,
      "outputs": []
    },
    {
      "cell_type": "code",
      "metadata": {
        "id": "UMYtmzCW8FEu"
      },
      "source": [
        "def prepare_sequences(notes, pitchnames, n_vocab):\r\n",
        "    \"\"\" Prepare the sequences used by the Neural Network \"\"\"\r\n",
        "    # map between notes and integers and back\r\n",
        "    note_to_int = dict((note, number) for number, note in enumerate(pitchnames))\r\n",
        "\r\n",
        "    sequence_length = 100\r\n",
        "    network_input = []\r\n",
        "    output = []\r\n",
        "    for i in range(0, len(notes) - sequence_length, 1):\r\n",
        "        sequence_in = notes[i:i + sequence_length]\r\n",
        "        sequence_out = notes[i + sequence_length]\r\n",
        "        network_input.append([note_to_int[char] for char in sequence_in])\r\n",
        "        output.append(note_to_int[sequence_out])\r\n",
        "\r\n",
        "    n_patterns = len(network_input)\r\n",
        "\r\n",
        "    # reshape the input into a format compatible with LSTM layers\r\n",
        "    normalized_input = numpy.reshape(network_input, (n_patterns, sequence_length, 1))\r\n",
        "    # normalize input\r\n",
        "    normalized_input = normalized_input / float(n_vocab)\r\n",
        "\r\n",
        "    return (network_input, normalized_input)"
      ],
      "execution_count": null,
      "outputs": []
    },
    {
      "cell_type": "code",
      "metadata": {
        "id": "ldYr3lAb8Jvk"
      },
      "source": [
        "def create_network(network_input, n_vocab):\r\n",
        "    \"\"\" create the structure of the neural network \"\"\"\r\n",
        "    model = Sequential()\r\n",
        "    model.add(LSTM(\r\n",
        "        512,\r\n",
        "        input_shape=(network_input.shape[1], network_input.shape[2]),\r\n",
        "        recurrent_dropout=0.3,\r\n",
        "        return_sequences=True\r\n",
        "    ))\r\n",
        "    model.add(LSTM(512, return_sequences=True, recurrent_dropout=0.3,))\r\n",
        "    model.add(LSTM(512))\r\n",
        "    model.add(BatchNorm())\r\n",
        "    model.add(Dropout(0.3))\r\n",
        "    model.add(Dense(256))\r\n",
        "    model.add(Activation('relu'))\r\n",
        "    model.add(BatchNorm())\r\n",
        "    model.add(Dropout(0.3))\r\n",
        "    model.add(Dense(n_vocab))\r\n",
        "    model.add(Activation('softmax'))\r\n",
        "    model.compile(loss='categorical_crossentropy', optimizer='rmsprop')\r\n",
        "\r\n",
        "    # Load the weights to each node\r\n",
        "    model.load_weights('drive/My Drive/music/weights.hdf5')\r\n",
        "\r\n",
        "    return model"
      ],
      "execution_count": null,
      "outputs": []
    },
    {
      "cell_type": "code",
      "metadata": {
        "id": "O7o1CwEp8N4w"
      },
      "source": [
        "def generate_notes(model, network_input, pitchnames, n_vocab):\r\n",
        "    \"\"\" Generate notes from the neural network based on a sequence of notes \"\"\"\r\n",
        "    # pick a random sequence from the input as a starting point for the prediction\r\n",
        "    start = numpy.random.randint(0, len(network_input)-1)\r\n",
        "\r\n",
        "    int_to_note = dict((number, note) for number, note in enumerate(pitchnames))\r\n",
        "\r\n",
        "    pattern = network_input[start]\r\n",
        "    prediction_output = []\r\n",
        "\r\n",
        "    # generate 500 notes, for speed I change to 100\r\n",
        "    for note_index in range(100):\r\n",
        "        prediction_input = numpy.reshape(pattern, (1, len(pattern), 1))\r\n",
        "        prediction_input = prediction_input / float(n_vocab)\r\n",
        "\r\n",
        "        prediction = model.predict(prediction_input, verbose=0)\r\n",
        "\r\n",
        "        index = numpy.argmax(prediction)\r\n",
        "        result = int_to_note[index]\r\n",
        "        prediction_output.append(result)\r\n",
        "\r\n",
        "        pattern.append(index)\r\n",
        "        pattern = pattern[1:len(pattern)]\r\n",
        "\r\n",
        "    return prediction_output"
      ],
      "execution_count": null,
      "outputs": []
    },
    {
      "cell_type": "code",
      "metadata": {
        "id": "pjcR_ycE8R65"
      },
      "source": [
        "def create_midi(prediction_output):\r\n",
        "    \"\"\" convert the output from the prediction to notes and create a midi file\r\n",
        "        from the notes \"\"\"\r\n",
        "    \"\"\" added duration in the output data\"\"\"\r\n",
        "    offset = 0\r\n",
        "    duration = 0\r\n",
        "    output_notes = []\r\n",
        "\r\n",
        "    # create note and chord objects based on the values generated by the model\r\n",
        "    for pattern in prediction_output:\r\n",
        "        # pattern is a chord\r\n",
        "        if ('&' in pattern):\r\n",
        "            \r\n",
        "            #split duration and note\r\n",
        "            chord_and_duration = pattern.split('=')\r\n",
        "            chord_chunk = chord_and_duration[0]\r\n",
        "            duration = float(chord_and_duration[1])\r\n",
        "            notes_in_chord = chord_chunk.split('&')\r\n",
        "\r\n",
        "            notes = []\r\n",
        "            for current_note in notes_in_chord:\r\n",
        "                new_note = note.Note(int(current_note))\r\n",
        "                new_note.storedInstrument = instrument.Piano()\r\n",
        "                notes.append(new_note)\r\n",
        "            new_chord = chord.Chord(notes)\r\n",
        "            #set duration\r\n",
        "            new_chord.duration.quarterLength = duration\r\n",
        "            new_chord.offset = offset\r\n",
        "            output_notes.append(new_chord)\r\n",
        "            offset+= duration\r\n",
        "        #pattern is a rest\r\n",
        "        elif ('P' in pattern):\r\n",
        "            rest_n_duration = pattern.split('=')\r\n",
        "            #oneRest = rest_n_duration[0]\r\n",
        "            if ('/' in rest_n_duration[1]):\r\n",
        "                number = rest_n_duration[1].split('/')\r\n",
        "                duration = float(int(number[0])/int(number[1]))\r\n",
        "            else:\r\n",
        "                duration = float(rest_n_duration[1])\r\n",
        "\r\n",
        "            new_note = note.Rest()\r\n",
        "            new_note.duration.quarterLength = duration\r\n",
        "            new_note.offset = offset\r\n",
        "            new_note.storedInstrument = instrument.Piano()\r\n",
        "            output_notes.append(new_note)\r\n",
        "            offset += duration\r\n",
        "\r\n",
        "        # pattern is a note\r\n",
        "        else:\r\n",
        "\r\n",
        "            oneNote_and_duration = pattern.split('=')\r\n",
        "            oneNote = oneNote_and_duration[0]\r\n",
        "            duration = float(oneNote_and_duration[1])\r\n",
        "\r\n",
        "            new_note = note.Note(oneNote)\r\n",
        "            new_note.duration.quarterLength = duration\r\n",
        "            new_note.offset = offset\r\n",
        "            new_note.storedInstrument = instrument.Piano()\r\n",
        "            output_notes.append(new_note)\r\n",
        "            offset += duration\r\n",
        "\r\n",
        "        # increase offset each iteration so that notes do not stack\r\n",
        "        \r\n",
        "\r\n",
        "    midi_stream = stream.Stream(output_notes)\r\n",
        "\r\n",
        "    midi_stream.write('midi', fp='drive/My Drive/music/test_output.mid')"
      ],
      "execution_count": null,
      "outputs": []
    },
    {
      "cell_type": "code",
      "metadata": {
        "id": "SIWy689S_LuU"
      },
      "source": [
        "if __name__ == '__main__':\r\n",
        "    generate()"
      ],
      "execution_count": null,
      "outputs": []
    }
  ]
}